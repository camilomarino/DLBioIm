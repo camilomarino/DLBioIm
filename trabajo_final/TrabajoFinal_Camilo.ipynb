{
 "cells": [
  {
   "cell_type": "markdown",
   "id": "ea08b928",
   "metadata": {
    "id": "3J9nZra6t-A4",
    "papermill": {
     "duration": 0.023136,
     "end_time": "2022-03-06T21:07:20.650863",
     "exception": false,
     "start_time": "2022-03-06T21:07:20.627727",
     "status": "completed"
    },
    "tags": []
   },
   "source": [
    "# Trabajo Final"
   ]
  },
  {
   "cell_type": "code",
   "execution_count": 1,
   "id": "911aed33",
   "metadata": {
    "id": "j8oN6YksXPkw",
    "papermill": {
     "duration": 20.87113,
     "end_time": "2022-03-06T21:07:46.169796",
     "exception": false,
     "start_time": "2022-03-06T21:07:25.298666",
     "status": "completed"
    },
    "tags": []
   },
   "outputs": [],
   "source": [
    "import warnings\n",
    "\n",
    "import matplotlib.pyplot as plt\n",
    "import medmnist\n",
    "import numpy as np\n",
    "import pandas as pd\n",
    "import torch\n",
    "import torch.nn as nn\n",
    "import torch.optim as optim\n",
    "import torch.utils.data as data\n",
    "import torchvision.transforms as transforms\n",
    "from medmnist import INFO, Evaluator\n",
    "from tqdm import tqdm\n",
    "\n",
    "warnings.simplefilter(action=\"ignore\", category=FutureWarning)\n",
    "\n",
    "torch.manual_seed(10)  # set seed for reproducibility\n",
    "np.random.seed(10)\n",
    "\n",
    "data_flag = \"organsmnist\"\n",
    "download = True\n",
    "\n",
    "info = INFO[data_flag]\n",
    "task = info[\"task\"]\n",
    "n_channels = info[\"n_channels\"]\n",
    "n_classes = len(info[\"label\"])\n",
    "\n",
    "DataClass = getattr(medmnist, info[\"python_class\"])"
   ]
  },
  {
   "cell_type": "markdown",
   "id": "0bdad404",
   "metadata": {
    "id": "089cgkl5PY8H",
    "papermill": {
     "duration": 0.058018,
     "end_time": "2022-03-06T21:07:46.403744",
     "exception": false,
     "start_time": "2022-03-06T21:07:46.345726",
     "status": "completed"
    },
    "tags": []
   },
   "source": [
    "# Creando los datasets\n",
    "Ahora procederemos a crear los datasets con las imágenes de training y de test. Aquí por simplicidad no utilizaremos la partición de validación, pero recordar que siempre se debe contar con una partición de validación para la selección de hiperparámetros y de modelo."
   ]
  },
  {
   "cell_type": "code",
   "execution_count": 2,
   "id": "fec0ade3",
   "metadata": {
    "colab": {
     "base_uri": "https://localhost:8080/",
     "height": 101,
     "referenced_widgets": [
      "a90618c8a9034feb85519927d7a23800",
      "c9c4cff96c154eb48f7c27906b67be43",
      "a18aa2ec8ab74ed88797ad627c5023fc",
      "fa29dca2ace241b2af4639383bc6de17",
      "b174e189b82f4670b80ba77f7d2c37be",
      "3980263d8dab41959ea1a2ac31ba2d2b",
      "579ce6e14c0448b98de77394f00f93b6",
      "71f83dca59e3466fba0162d43ae53383",
      "e4638284f15a425ebbf829566f8abb59",
      "c7c9e4562e3748dba9afaace2b8a1c51",
      "436c2d5d675f433fba824d155bc41465"
     ]
    },
    "id": "JbeXXTEsdmzw",
    "outputId": "a344ec78-4b05-4433-e3fa-b8d6e93c1faa",
    "papermill": {
     "duration": 3.950074,
     "end_time": "2022-03-06T21:07:50.429178",
     "exception": false,
     "start_time": "2022-03-06T21:07:46.479104",
     "status": "completed"
    },
    "tags": []
   },
   "outputs": [
    {
     "name": "stdout",
     "output_type": "stream",
     "text": [
      "Using downloaded and verified file: /clusteruy/home/cmarino/.medmnist/organsmnist.npz\n",
      "Using downloaded and verified file: /clusteruy/home/cmarino/.medmnist/organsmnist.npz\n",
      "Using downloaded and verified file: /clusteruy/home/cmarino/.medmnist/organsmnist.npz\n",
      "Using downloaded and verified file: /clusteruy/home/cmarino/.medmnist/organsmnist.npz\n"
     ]
    }
   ],
   "source": [
    "# Tamaño del batch de entrenamiento que será utilizado al generar los dataloaders\n",
    "BATCH_SIZE = 128\n",
    "\n",
    "# Transformaciones que serán utilizadas para normalizar las imagenes\n",
    "data_transform = transforms.Compose(\n",
    "    [transforms.ToTensor(), transforms.Normalize(mean=[0.5], std=[0.5])]\n",
    ")\n",
    "\n",
    "# Creo los datasets\n",
    "train_dataset = DataClass(split=\"train\", transform=data_transform, download=download)\n",
    "val_dataset = DataClass(split=\"val\", transform=data_transform, download=download)\n",
    "test_dataset = DataClass(split=\"test\", transform=data_transform, download=download)\n",
    "\n",
    "# Dataset que será utilizado solo para vbisualización (no incluye las transformaciones)\n",
    "visual_dataset = DataClass(split=\"train\", download=download)\n",
    "\n",
    "# Encapsulo los datasets en un dataloader\n",
    "train_loader = data.DataLoader(\n",
    "    dataset=train_dataset, batch_size=BATCH_SIZE, shuffle=True\n",
    ")\n",
    "val_loader = data.DataLoader(\n",
    "    dataset=val_dataset, batch_size=2 * BATCH_SIZE, shuffle=False\n",
    ")\n",
    "test_loader = data.DataLoader(\n",
    "    dataset=test_dataset, batch_size=2 * BATCH_SIZE, shuffle=False\n",
    ")"
   ]
  },
  {
   "cell_type": "code",
   "execution_count": 3,
   "id": "cc7cac19-718b-4d84-9a50-f66ce55bd51f",
   "metadata": {},
   "outputs": [],
   "source": [
    "def get_counts_labels(loader):\n",
    "    labels = []\n",
    "    for _, label in loader:\n",
    "        labels.extend(list(label[:, 0].numpy()))\n",
    "    mapping = {int(k): v.capitalize() for (k, v) in info[\"label\"].items()}\n",
    "    mapping = np.vectorize(mapping.get)\n",
    "    labels = mapping(labels)\n",
    "    return pd.DataFrame(pd.Series(labels).value_counts())\n",
    "\n",
    "\n",
    "counts_train = get_counts_labels(train_loader)\n",
    "counts_val = get_counts_labels(val_loader)\n",
    "counts_test = get_counts_labels(test_loader)"
   ]
  },
  {
   "cell_type": "code",
   "execution_count": 4,
   "id": "6db3da9a-748a-4e23-964c-d0709b42bd4c",
   "metadata": {},
   "outputs": [
    {
     "data": {
      "text/html": [
       "<div>\n",
       "<style scoped>\n",
       "    .dataframe tbody tr th:only-of-type {\n",
       "        vertical-align: middle;\n",
       "    }\n",
       "\n",
       "    .dataframe tbody tr th {\n",
       "        vertical-align: top;\n",
       "    }\n",
       "\n",
       "    .dataframe thead th {\n",
       "        text-align: right;\n",
       "    }\n",
       "</style>\n",
       "<table border=\"1\" class=\"dataframe\">\n",
       "  <thead>\n",
       "    <tr style=\"text-align: right;\">\n",
       "      <th></th>\n",
       "      <th>#Train</th>\n",
       "      <th>#Val</th>\n",
       "      <th>#Test</th>\n",
       "    </tr>\n",
       "  </thead>\n",
       "  <tbody>\n",
       "    <tr>\n",
       "      <th>Liver</th>\n",
       "      <td>3464</td>\n",
       "      <td>491</td>\n",
       "      <td>2078</td>\n",
       "    </tr>\n",
       "    <tr>\n",
       "      <th>Pancreas</th>\n",
       "      <td>2004</td>\n",
       "      <td>280</td>\n",
       "      <td>1343</td>\n",
       "    </tr>\n",
       "    <tr>\n",
       "      <th>Spleen</th>\n",
       "      <td>1556</td>\n",
       "      <td>213</td>\n",
       "      <td>968</td>\n",
       "    </tr>\n",
       "    <tr>\n",
       "      <th>Bladder</th>\n",
       "      <td>1148</td>\n",
       "      <td>188</td>\n",
       "      <td>811</td>\n",
       "    </tr>\n",
       "    <tr>\n",
       "      <th>Kidney-left</th>\n",
       "      <td>1132</td>\n",
       "      <td>140</td>\n",
       "      <td>704</td>\n",
       "    </tr>\n",
       "    <tr>\n",
       "      <th>Kidney-right</th>\n",
       "      <td>1119</td>\n",
       "      <td>159</td>\n",
       "      <td>693</td>\n",
       "    </tr>\n",
       "    <tr>\n",
       "      <th>Lung-right</th>\n",
       "      <td>803</td>\n",
       "      <td>275</td>\n",
       "      <td>439</td>\n",
       "    </tr>\n",
       "    <tr>\n",
       "      <th>Lung-left</th>\n",
       "      <td>741</td>\n",
       "      <td>261</td>\n",
       "      <td>397</td>\n",
       "    </tr>\n",
       "    <tr>\n",
       "      <th>Heart</th>\n",
       "      <td>721</td>\n",
       "      <td>246</td>\n",
       "      <td>510</td>\n",
       "    </tr>\n",
       "    <tr>\n",
       "      <th>Femur-left</th>\n",
       "      <td>637</td>\n",
       "      <td>104</td>\n",
       "      <td>439</td>\n",
       "    </tr>\n",
       "    <tr>\n",
       "      <th>Femur-right</th>\n",
       "      <td>615</td>\n",
       "      <td>95</td>\n",
       "      <td>447</td>\n",
       "    </tr>\n",
       "  </tbody>\n",
       "</table>\n",
       "</div>"
      ],
      "text/plain": [
       "              #Train  #Val  #Test\n",
       "Liver           3464   491   2078\n",
       "Pancreas        2004   280   1343\n",
       "Spleen          1556   213    968\n",
       "Bladder         1148   188    811\n",
       "Kidney-left     1132   140    704\n",
       "Kidney-right    1119   159    693\n",
       "Lung-right       803   275    439\n",
       "Lung-left        741   261    397\n",
       "Heart            721   246    510\n",
       "Femur-left       637   104    439\n",
       "Femur-right      615    95    447"
      ]
     },
     "execution_count": 4,
     "metadata": {},
     "output_type": "execute_result"
    }
   ],
   "source": [
    "df = pd.concat([counts_train, counts_val, counts_test], axis=1)\n",
    "df.columns = [\"#Train\", \"#Val\", \"#Test\"]\n",
    "# df.index = df.index.rename(\"Organo\")\n",
    "df"
   ]
  },
  {
   "cell_type": "code",
   "execution_count": 5,
   "id": "c90555d0-ee1e-461d-ae66-5169ea9b668f",
   "metadata": {},
   "outputs": [
    {
     "data": {
      "text/plain": [
       "{'0': 'bladder',\n",
       " '1': 'femur-left',\n",
       " '2': 'femur-right',\n",
       " '3': 'heart',\n",
       " '4': 'kidney-left',\n",
       " '5': 'kidney-right',\n",
       " '6': 'liver',\n",
       " '7': 'lung-left',\n",
       " '8': 'lung-right',\n",
       " '9': 'pancreas',\n",
       " '10': 'spleen'}"
      ]
     },
     "execution_count": 5,
     "metadata": {},
     "output_type": "execute_result"
    }
   ],
   "source": [
    "info[\"label\"]"
   ]
  },
  {
   "cell_type": "markdown",
   "id": "21def85a",
   "metadata": {
    "id": "WJxAqtzfQxA_",
    "papermill": {
     "duration": 0.067289,
     "end_time": "2022-03-06T21:07:50.554697",
     "exception": false,
     "start_time": "2022-03-06T21:07:50.487408",
     "status": "completed"
    },
    "tags": []
   },
   "source": [
    "# Visualizando las imágenes"
   ]
  },
  {
   "cell_type": "code",
   "execution_count": 6,
   "id": "ad672fae",
   "metadata": {
    "colab": {
     "base_uri": "https://localhost:8080/",
     "height": 680
    },
    "id": "ktfo71kHi8jm",
    "outputId": "dbc611c6-912e-4da2-c3ac-34205204ecb4",
    "papermill": {
     "duration": 1.35068,
     "end_time": "2022-03-06T21:07:51.946187",
     "exception": false,
     "start_time": "2022-03-06T21:07:50.595507",
     "status": "completed"
    },
    "tags": []
   },
   "outputs": [
    {
     "data": {
      "image/png": "[encoded data removed]",
      "text/plain": [
       "<Figure size 792x792 with 16 Axes>"
      ]
     },
     "metadata": {
      "needs_background": "light"
     },
     "output_type": "display_data"
    }
   ],
   "source": [
    "# Visualizamos algunas imágenes de ejemplo con sus etiquetas\n",
    "offset = 0\n",
    "plt.rcParams[\"figure.figsize\"] = [11, 11]\n",
    "\n",
    "\n",
    "fig = plt.figure()\n",
    "for i in range(1 + offset, 17 + offset):\n",
    "    ax = fig.add_subplot(4, 4, i - offset)\n",
    "    img = visual_dataset[i][0]\n",
    "    lbl = visual_dataset[i][1]\n",
    "    ax.imshow(img, cmap=\"gray\")\n",
    "    ax.set_title(info[\"label\"][str(lbl[0])])\n",
    "    ax.axis(False)\n",
    "fig.tight_layout()"
   ]
  },
  {
   "cell_type": "code",
   "execution_count": 7,
   "id": "62527f7a-7238-4d0b-81ad-35de916001a2",
   "metadata": {},
   "outputs": [],
   "source": [
    "fig.savefig(\"ejemplo_dataset.svg\")"
   ]
  },
  {
   "cell_type": "code",
   "execution_count": 8,
   "id": "30996ef3",
   "metadata": {
    "colab": {
     "base_uri": "https://localhost:8080/",
     "height": 781
    },
    "id": "O2LMyqdgTN_l",
    "outputId": "f4ec0fd5-234c-4f0f-b0b0-accf2adb2f40",
    "papermill": {
     "duration": 0.08393,
     "end_time": "2022-03-06T21:07:54.573814",
     "exception": false,
     "start_time": "2022-03-06T21:07:54.489884",
     "status": "completed"
    },
    "tags": []
   },
   "outputs": [],
   "source": [
    "def trainer(\n",
    "    net,\n",
    "    train_loader,\n",
    "    test_loader,\n",
    "    *,\n",
    "    num_epochs,\n",
    "    input_features=28 * 28 * 3,\n",
    "    learning_rate=0.001\n",
    "):\n",
    "    # Construimos el optimizador, y le indicamos que los parámetros a optimizar\n",
    "    # son los del modelo definido: net.parameters()\n",
    "\n",
    "    optimizer = torch.optim.Adam(net.parameters(), lr=learning_rate)\n",
    "\n",
    "    # Definimos también la función de pérdida a utilizar\n",
    "    criterion = nn.CrossEntropyLoss()\n",
    "\n",
    "    # Creamos un loader iterable indicandole que debe leer los datos a partir de\n",
    "    # del dataset creado en el paso anterior. Este objeto puede ser iterado\n",
    "    # y nos devuelve de a un batch (x, y).\n",
    "\n",
    "    # Lista en la que iremos guardando el valor de la función de pérdida en cada\n",
    "    # etapa de entrenamiento\n",
    "    loss_list = []\n",
    "\n",
    "    acc_list = []\n",
    "    acc_test_list = []\n",
    "    iter_test_loader = iter(test_loader)\n",
    "\n",
    "    # Bucle de entrenamiento\n",
    "    for i in range(num_epochs):\n",
    "        print(\"Epoch : \" + str(i))\n",
    "        loss_list_epoch = []\n",
    "        # Itero sobre todos los batches del dataset\n",
    "        for x, y in tqdm(train_loader):\n",
    "            # Seteo en cero los gradientes de los parámetros a optimizar\n",
    "            optimizer.zero_grad()\n",
    "\n",
    "            # Movemos los tensores a memoria de GPU\n",
    "            x = x.to(device)\n",
    "            y = y.to(device)\n",
    "            y = y.squeeze().long()\n",
    "            pred = net(x)\n",
    "\n",
    "            # Realizo la pasada forward por la red\n",
    "            loss = criterion(pred, y)\n",
    "\n",
    "            # Realizo la pasada backward por la red\n",
    "            loss.backward()\n",
    "\n",
    "            # Actualizo los pesos de la red con el optimizador\n",
    "            optimizer.step()\n",
    "\n",
    "            # Acc\n",
    "            with torch.no_grad():\n",
    "                acc = (pred.argmax(dim=1) == y).sum() / y.size(0)\n",
    "                try:\n",
    "                    x_val, y_val = next(iter_test_loader)\n",
    "                except StopIteration:\n",
    "                    iter_test_loader = iter(test_loader)\n",
    "                    x_val, y_val = next(iter_test_loader)\n",
    "\n",
    "                x_val = x_val.to(device)\n",
    "                y_val = y_val.to(device)\n",
    "                y_val = y_val.squeeze().long()\n",
    "                pred_val = net(x_val)\n",
    "                acc_val = (pred_val.argmax(dim=1) == y_val).sum() / y_val.size(0)\n",
    "\n",
    "            # Me guardo el valor actual de la función de pérdida para luego graficarlo\n",
    "            loss_list.append(loss.data.item())\n",
    "            loss_list_epoch.append(loss.data.item())\n",
    "            acc_list.append(acc.data.item())\n",
    "            acc_test_list.append(acc_val.data.item())\n",
    "        # Muestro el valor de la función de pérdida cada 100 iteraciones\n",
    "        # if i > 0 and i % 100 == 0:\n",
    "        print(\n",
    "            \"Epoch %d, Avg train loss during epoch = %g\"\n",
    "            % (i, np.array(loss_list_epoch).mean())\n",
    "        )\n",
    "    return loss_list, acc_list, acc_test_list\n",
    "\n",
    "\n",
    "def plot_loss(loss_list, ax):\n",
    "    # Muestro la lista que contiene los valores de la función de pérdida\n",
    "    # y una versión suavizada (rojo) para observar la tendencia\n",
    "    loss_np_array = np.array(loss_list)\n",
    "    ax.plot(loss_np_array, alpha=0.3, label=\"loss\")\n",
    "    N = 60\n",
    "    running_avg_loss = np.convolve(loss_np_array, np.ones((N,)) / N, mode=\"valid\")\n",
    "    ax.plot(running_avg_loss, color=\"red\", label=\"loss suavizada\")\n",
    "    ax.set_title(\"Función de pérdida durante el entrenamiento\")\n",
    "    ax.legend()\n",
    "    ax.grid(True)\n",
    "    ax.set_xlabel(\"Step\")\n",
    "    ax.set_ylabel(\"Loss\")\n",
    "\n",
    "\n",
    "def plot_acc(acc_list, acc_test_list, ax):\n",
    "    acc_np_array = np.array(acc_list)\n",
    "    ax.plot(acc_np_array, alpha=0.3, color=\"red\", label=\"acc_train\")\n",
    "    N = 60\n",
    "    running_avg_loss = np.convolve(acc_np_array, np.ones((N,)) / N, mode=\"valid\")\n",
    "    ax.plot(running_avg_loss, color=\"red\", label=\"acc_train suavizada\")\n",
    "\n",
    "    acc_test_np_array = np.array(acc_test_list)\n",
    "    ax.plot(acc_test_np_array, alpha=0.3, color=\"blue\", label=\"acc_val\")\n",
    "    N = 60\n",
    "    running_test_avg_loss = np.convolve(\n",
    "        acc_test_np_array, np.ones((N,)) / N, mode=\"valid\"\n",
    "    )\n",
    "    ax.plot(running_test_avg_loss, color=\"blue\", label=\"acc_val suavizada\")\n",
    "    ax.set_title(\"Accuracy durante el entrenamiento\")\n",
    "    ax.legend()\n",
    "    ax.grid(True)\n",
    "    ax.set_xlabel(\"Step\")\n",
    "    ax.set_ylabel(\"Accuracy\")"
   ]
  },
  {
   "cell_type": "markdown",
   "id": "88f7d33f",
   "metadata": {
    "id": "4qQYQziCx5fz",
    "papermill": {
     "duration": 0.616974,
     "end_time": "2022-03-06T21:10:01.758571",
     "exception": false,
     "start_time": "2022-03-06T21:10:01.141597",
     "status": "completed"
    },
    "tags": []
   },
   "source": [
    "# Red Neuronal Convolucional\n",
    "\n",
    "También definiremos un modelo NetCNN que implemente una red neuronal convolucional, el cual seguirá la siguiente estructura:\n",
    "* Capa convolucional (6 feature maps de salida) + ReLU\n",
    "* Max pooling 2 x 2\n",
    "* Capa convolucional (16 feature maps de salida) + ReLU\n",
    "* Max pooling 2 x 2\n",
    "* Capa totalmente conectada (120 neuronas) + ReLU\n",
    "* Capa totalmente conectada (84 neuronas) + ReLU\n",
    "* Capa de salida (10 neuronas)\n",
    "\n",
    "Notar que utilizaremos la función `CrossEntropyLoss` para entrenar el modelo. Recordar que dados:\n",
    "* F: tamaño del filtro\n",
    "* W: Tamaño del feature map de entrada\n",
    "* P: Padding\n",
    "* S: Stride\n",
    "\n",
    "El tamaño de la salida es $O = \\frac{(W - F + 2P)}{S} + 1$\n"
   ]
  },
  {
   "cell_type": "code",
   "execution_count": 9,
   "id": "84c9b14b",
   "metadata": {
    "id": "CASJs6F-81-D",
    "papermill": {
     "duration": 1.599759,
     "end_time": "2022-03-06T21:10:04.558107",
     "exception": false,
     "start_time": "2022-03-06T21:10:02.958348",
     "status": "completed"
    },
    "tags": []
   },
   "outputs": [],
   "source": [
    "import torch.nn.functional as F\n",
    "\n",
    "\n",
    "class NetCNN(nn.Module):\n",
    "    def __init__(self, *, n_classes):\n",
    "        super(NetCNN, self).__init__()\n",
    "        # 3 input image channel, 6 output channels, 3x3 square convolution\n",
    "        # kernel\n",
    "        self.conv1 = nn.Conv2d(1, 6, 3, padding=1)\n",
    "        self.conv2 = nn.Conv2d(6, 16, 3, padding=1)\n",
    "        # an affine operation: y = Wx + b\n",
    "        self.fc1 = nn.Linear(16 * 7 * 7, 120)\n",
    "        self.fc2 = nn.Linear(120, 84)\n",
    "        self.fc3 = nn.Linear(84, n_classes)\n",
    "\n",
    "    def forward(self, x):\n",
    "        # Max pooling over a (2, 2) window\n",
    "        x = self.conv1(x)  # batch_size x 6 x 28 x 28\n",
    "        x = F.relu(x)  # batch_size x 6 x 28 x 28\n",
    "        x = F.max_pool2d(x, kernel_size=2)  # batch_size x 6 x 14 x 14\n",
    "        x = self.conv2(x)  # batch_size x 16 x 14 x14\n",
    "        x = F.relu(x)  # batch_size x 16 x 14 x 14\n",
    "        x = F.max_pool2d(x, kernel_size=2)  # batch_size x 16 x 7 x 7\n",
    "        x = x.view(x.size(0), -1)  # batch_size x 16*7*7\n",
    "        x = self.fc1(x)  # batch_size x 120\n",
    "        x = self.fc2(x)  # batch_size x 84\n",
    "        x = self.fc3(x)  # batch_size x 9\n",
    "        return x"
   ]
  },
  {
   "cell_type": "code",
   "execution_count": 10,
   "id": "b058fac6",
   "metadata": {
    "colab": {
     "base_uri": "https://localhost:8080/",
     "height": 729
    },
    "id": "3OPpxicsy824",
    "outputId": "72471dbf-5c8d-4cba-f278-3e68f2299bf9",
    "papermill": {
     "duration": 102.470171,
     "end_time": "2022-03-06T21:11:48.279497",
     "exception": false,
     "start_time": "2022-03-06T21:10:05.809326",
     "status": "completed"
    },
    "tags": []
   },
   "outputs": [
    {
     "name": "stdout",
     "output_type": "stream",
     "text": [
      "Epoch : 0\n"
     ]
    },
    {
     "name": "stderr",
     "output_type": "stream",
     "text": [
      "100%|███████████████████████████████████████████████████████████████████████████████████████| 109/109 [00:04<00:00, 22.07it/s]\n"
     ]
    },
    {
     "name": "stdout",
     "output_type": "stream",
     "text": [
      "Epoch 0, Avg train loss during epoch = 1.40395\n",
      "Epoch : 1\n"
     ]
    },
    {
     "name": "stderr",
     "output_type": "stream",
     "text": [
      "100%|███████████████████████████████████████████████████████████████████████████████████████| 109/109 [00:05<00:00, 21.79it/s]\n"
     ]
    },
    {
     "name": "stdout",
     "output_type": "stream",
     "text": [
      "Epoch 1, Avg train loss during epoch = 0.813317\n",
      "Epoch : 2\n"
     ]
    },
    {
     "name": "stderr",
     "output_type": "stream",
     "text": [
      "100%|███████████████████████████████████████████████████████████████████████████████████████| 109/109 [00:04<00:00, 22.21it/s]\n"
     ]
    },
    {
     "name": "stdout",
     "output_type": "stream",
     "text": [
      "Epoch 2, Avg train loss during epoch = 0.711008\n",
      "Epoch : 3\n"
     ]
    },
    {
     "name": "stderr",
     "output_type": "stream",
     "text": [
      "100%|███████████████████████████████████████████████████████████████████████████████████████| 109/109 [00:04<00:00, 22.14it/s]\n"
     ]
    },
    {
     "name": "stdout",
     "output_type": "stream",
     "text": [
      "Epoch 3, Avg train loss during epoch = 0.634689\n",
      "Epoch : 4\n"
     ]
    },
    {
     "name": "stderr",
     "output_type": "stream",
     "text": [
      "100%|███████████████████████████████████████████████████████████████████████████████████████| 109/109 [00:04<00:00, 22.16it/s]"
     ]
    },
    {
     "name": "stdout",
     "output_type": "stream",
     "text": [
      "Epoch 4, Avg train loss during epoch = 0.574166\n"
     ]
    },
    {
     "name": "stderr",
     "output_type": "stream",
     "text": [
      "\n"
     ]
    }
   ],
   "source": [
    "# Numero de epocas de entrenamiento\n",
    "num_epochs = 5\n",
    "\n",
    "# Dispositivo en que se ejecturá el modelo: 'cuda:0' para GPU y 'cpu' para CPU\n",
    "device = torch.device(\"cuda:0\")\n",
    "\n",
    "net = NetCNN(n_classes=n_classes)\n",
    "net.to(device)\n",
    "\n",
    "loss_list, acc_list, acc_val_list = trainer(\n",
    "    net,\n",
    "    train_loader,\n",
    "    val_loader,\n",
    "    num_epochs=num_epochs,\n",
    ")"
   ]
  },
  {
   "cell_type": "code",
   "execution_count": 11,
   "id": "39771e66-c5b7-4da9-a18b-6fd85b6ac30f",
   "metadata": {},
   "outputs": [
    {
     "data": {
      "image/png": "[encoded data removed]",
      "text/plain": [
       "<Figure size 1080x360 with 2 Axes>"
      ]
     },
     "metadata": {
      "needs_background": "light"
     },
     "output_type": "display_data"
    }
   ],
   "source": [
    "fig_train_base, ax = plt.subplots(1, 2, figsize=(15, 5))\n",
    "plot_loss(loss_list, ax[0])\n",
    "plot_acc(acc_list, acc_val_list, ax[1])\n",
    "fig_train_base.savefig(\"train_base.svg\")"
   ]
  },
  {
   "cell_type": "code",
   "execution_count": 12,
   "id": "5b91a0d9-0bb5-40f5-8f78-0739d44cc6c8",
   "metadata": {},
   "outputs": [],
   "source": [
    "def get_target_preds(net, loader):\n",
    "    preds = []\n",
    "    targets = []\n",
    "    net.eval()\n",
    "    for x, y in loader:\n",
    "        with torch.no_grad():\n",
    "            x = x.cuda()\n",
    "            output = net(x).argmax(axis=1)\n",
    "            targets.extend(list(y[:, 0].numpy()))\n",
    "            preds.extend(list(output.cpu().numpy()))\n",
    "\n",
    "    targets, preds = np.array(targets), np.array(preds)\n",
    "    mapping = {int(k): v.capitalize() for (k, v) in info[\"label\"].items()}\n",
    "    mapping = np.vectorize(mapping.get)\n",
    "    targets = mapping(targets)\n",
    "    preds = mapping(preds)\n",
    "    return targets, preds\n",
    "\n",
    "\n",
    "from sklearn.metrics import classification_report\n",
    "\n",
    "\n",
    "def get_metrics(target, pred) -> tuple:\n",
    "    \"\"\"\n",
    "    Retorna una lista con los siguientes elementos en orden:\n",
    "    accuracy, precision, recall, f1-score, support\n",
    "    \"\"\"\n",
    "    report_dict = classification_report(target, pred, output_dict=True)\n",
    "    return report_dict[\"accuracy\"], *report_dict[\"weighted avg\"].values()\n",
    "\n",
    "\n",
    "def eval_model(net) -> pd.DataFrame:\n",
    "    train_target, train_pred = get_target_preds(net, train_loader)\n",
    "    val_target, val_pred = get_target_preds(net, val_loader)\n",
    "    test_target, test_pred = get_target_preds(net, test_loader)\n",
    "    columns = pd.MultiIndex.from_product(\n",
    "        [\n",
    "            [\"Train\", \"Val\", \"Test\"],\n",
    "            [\"accuracy\", \"precision\", \"recall\", \"f1-score\", \"support\"],\n",
    "        ]\n",
    "    )\n",
    "\n",
    "    df = pd.DataFrame(columns=columns)\n",
    "    df.loc[\"Base\", \"Train\"] = get_metrics(train_target, train_pred)\n",
    "    df.loc[\"Base\", \"Val\"] = get_metrics(val_target, val_pred)\n",
    "    df.loc[\"Base\", \"Test\"] = get_metrics(test_target, test_pred)\n",
    "\n",
    "    from sklearn.metrics import ConfusionMatrixDisplay\n",
    "\n",
    "    fig, ax = plt.subplots(1, 2)\n",
    "    ConfusionMatrixDisplay.from_predictions(\n",
    "        train_target,\n",
    "        train_pred,\n",
    "        colorbar=False,\n",
    "        ax=ax[0],\n",
    "        xticks_rotation=60,\n",
    "        cmap=\"binary\",\n",
    "    )\n",
    "    ax[0].set_title(\"Train\")\n",
    "    ConfusionMatrixDisplay.from_predictions(\n",
    "        val_target,\n",
    "        val_pred,\n",
    "        colorbar=False,\n",
    "        ax=ax[1],\n",
    "        xticks_rotation=60,\n",
    "        cmap=\"binary\",\n",
    "    )\n",
    "    ax[1].set_title(\"Val\")\n",
    "    fig.tight_layout()\n",
    "    return df, fig"
   ]
  },
  {
   "cell_type": "code",
   "execution_count": 13,
   "id": "f12ea96d-4622-4fbd-b891-620978b9eafe",
   "metadata": {},
   "outputs": [
    {
     "data": {
      "image/png": "[encoded data removed]",
      "text/plain": [
       "<Figure size 792x792 with 2 Axes>"
      ]
     },
     "metadata": {
      "needs_background": "light"
     },
     "output_type": "display_data"
    }
   ],
   "source": [
    "df_base, fig_conf_matr_base = eval_model(net)"
   ]
  },
  {
   "cell_type": "code",
   "execution_count": 14,
   "id": "cb0a3bb9-3ae4-4608-ba3f-1ca56c0535f5",
   "metadata": {},
   "outputs": [
    {
     "data": {
      "text/html": [
       "<div>\n",
       "<style scoped>\n",
       "    .dataframe tbody tr th:only-of-type {\n",
       "        vertical-align: middle;\n",
       "    }\n",
       "\n",
       "    .dataframe tbody tr th {\n",
       "        vertical-align: top;\n",
       "    }\n",
       "\n",
       "    .dataframe thead th {\n",
       "        text-align: right;\n",
       "    }\n",
       "</style>\n",
       "<table border=\"1\" class=\"dataframe\">\n",
       "  <thead>\n",
       "    <tr style=\"text-align: right;\">\n",
       "      <th>level_1</th>\n",
       "      <th>accuracy</th>\n",
       "      <th>f1-score</th>\n",
       "      <th>precision</th>\n",
       "      <th>recall</th>\n",
       "    </tr>\n",
       "    <tr>\n",
       "      <th>level_0</th>\n",
       "      <th></th>\n",
       "      <th></th>\n",
       "      <th></th>\n",
       "      <th></th>\n",
       "    </tr>\n",
       "  </thead>\n",
       "  <tbody>\n",
       "    <tr>\n",
       "      <th>Train</th>\n",
       "      <td>0.793</td>\n",
       "      <td>0.794</td>\n",
       "      <td>0.801</td>\n",
       "      <td>0.793</td>\n",
       "    </tr>\n",
       "    <tr>\n",
       "      <th>Val</th>\n",
       "      <td>0.806</td>\n",
       "      <td>0.807</td>\n",
       "      <td>0.823</td>\n",
       "      <td>0.806</td>\n",
       "    </tr>\n",
       "  </tbody>\n",
       "</table>\n",
       "</div>"
      ],
      "text/plain": [
       "level_1  accuracy  f1-score  precision  recall\n",
       "level_0                                       \n",
       "Train       0.793     0.794      0.801   0.793\n",
       "Val         0.806     0.807      0.823   0.806"
      ]
     },
     "execution_count": 14,
     "metadata": {},
     "output_type": "execute_result"
    }
   ],
   "source": [
    "df_base_aux = pd.pivot_table(\n",
    "    df_base.T.reset_index(), values=\"Base\", index=\"level_0\", columns=\"level_1\"\n",
    ")\n",
    "df_base_aux.applymap(lambda x: round(x, 3)).loc[[\"Train\", \"Val\"]].iloc[:, :4]"
   ]
  },
  {
   "cell_type": "code",
   "execution_count": 16,
   "id": "1fb4a3d5-3769-45fa-93e4-fc1e19189e39",
   "metadata": {},
   "outputs": [],
   "source": [
    "fig_conf_matr_base.savefig(\"conf_matr_base.svg\")"
   ]
  },
  {
   "cell_type": "markdown",
   "id": "8df73332",
   "metadata": {
    "id": "mtrwJZ68-rrm",
    "papermill": {
     "duration": 0.34043,
     "end_time": "2022-03-06T21:11:50.098103",
     "exception": false,
     "start_time": "2022-03-06T21:11:49.757673",
     "status": "completed"
    },
    "tags": []
   },
   "source": [
    "### Guardo el modelo"
   ]
  },
  {
   "cell_type": "code",
   "execution_count": null,
   "id": "c5f0b8d2",
   "metadata": {
    "id": "myleQmjIzhz3",
    "papermill": {
     "duration": 0.476688,
     "end_time": "2022-03-06T21:11:50.924838",
     "exception": false,
     "start_time": "2022-03-06T21:11:50.448150",
     "status": "completed"
    },
    "tags": []
   },
   "outputs": [],
   "source": [
    "# torch.save(net.state_dict(), \"./cnn.pth\")"
   ]
  },
  {
   "cell_type": "markdown",
   "id": "916da0dd",
   "metadata": {
    "id": "oDC2H8Cr-7kB",
    "papermill": {
     "duration": 0.351604,
     "end_time": "2022-03-06T21:11:51.633140",
     "exception": false,
     "start_time": "2022-03-06T21:11:51.281536",
     "status": "completed"
    },
    "tags": []
   },
   "source": [
    "#### Cargamos el modelo y visualizamos los resultados en los datos de test\n",
    "\n",
    "Para ello, utilizaremos los métodos `classification_report` y `confusion_matrix` de scikitlearn."
   ]
  },
  {
   "cell_type": "code",
   "execution_count": null,
   "id": "d15a90b7",
   "metadata": {
    "colab": {
     "base_uri": "https://localhost:8080/"
    },
    "id": "m6ItAZr0_PhD",
    "outputId": "04b41d82-64f0-4929-810e-3e754eacf44c",
    "papermill": {
     "duration": 0.375863,
     "end_time": "2022-03-06T21:11:52.378395",
     "exception": false,
     "start_time": "2022-03-06T21:11:52.002532",
     "status": "completed"
    },
    "tags": []
   },
   "outputs": [],
   "source": [
    "# # Cargamos el modelo (no es necesario si el modelo se encuentra en memoria)\n",
    "# net = NetCNN(n_classes=n_classes)\n",
    "# net.load_state_dict(torch.load(\"./cnn.pth\"))\n",
    "# net.to(device)"
   ]
  }
 ],
 "metadata": {
  "accelerator": "GPU",
  "colab": {
   "collapsed_sections": [],
   "include_colab_link": true,
   "name": "Práctica 3 Medical - Camilo.ipynb",
   "provenance": []
  },
  "kernelspec": {
   "display_name": "Python 3 (ipykernel)",
   "language": "python",
   "name": "python3"
  },
  "language_info": {
   "codemirror_mode": {
    "name": "ipython",
    "version": 3
   },
   "file_extension": ".py",
   "mimetype": "text/x-python",
   "name": "python",
   "nbconvert_exporter": "python",
   "pygments_lexer": "ipython3",
   "version": "3.8.12"
  },
  "papermill": {
   "default_parameters": {},
   "duration": 3586.512976,
   "end_time": "2022-03-06T22:06:59.921431",
   "environment_variables": {},
   "exception": null,
   "input_path": "Practica_3_Medical_Camilo.ipynb",
   "output_path": "Practica_3_Medical_Camilo_papermill_2.ipynb",
   "parameters": {},
   "start_time": "2022-03-06T21:07:13.408455",
   "version": "2.3.4"
  },
  "widgets": {
   "application/vnd.jupyter.widget-state+json": {
    "3980263d8dab41959ea1a2ac31ba2d2b": {
     "model_module": "@jupyter-widgets/controls",
     "model_module_version": "1.5.0",
     "model_name": "DescriptionStyleModel",
     "state": {
      "_model_module": "@jupyter-widgets/controls",
      "_model_module_version": "1.5.0",
      "_model_name": "DescriptionStyleModel",
      "_view_count": null,
      "_view_module": "@jupyter-widgets/base",
      "_view_module_version": "1.2.0",
      "_view_name": "StyleView",
      "description_width": ""
     }
    },
    "436c2d5d675f433fba824d155bc41465": {
     "model_module": "@jupyter-widgets/base",
     "model_module_version": "1.2.0",
     "model_name": "LayoutModel",
     "state": {
      "_model_module": "@jupyter-widgets/base",
      "_model_module_version": "1.2.0",
      "_model_name": "LayoutModel",
      "_view_count": null,
      "_view_module": "@jupyter-widgets/base",
      "_view_module_version": "1.2.0",
      "_view_name": "LayoutView",
      "align_content": null,
      "align_items": null,
      "align_self": null,
      "border": null,
      "bottom": null,
      "display": null,
      "flex": null,
      "flex_flow": null,
      "grid_area": null,
      "grid_auto_columns": null,
      "grid_auto_flow": null,
      "grid_auto_rows": null,
      "grid_column": null,
      "grid_gap": null,
      "grid_row": null,
      "grid_template_areas": null,
      "grid_template_columns": null,
      "grid_template_rows": null,
      "height": null,
      "justify_content": null,
      "justify_items": null,
      "left": null,
      "margin": null,
      "max_height": null,
      "max_width": null,
      "min_height": null,
      "min_width": null,
      "object_fit": null,
      "object_position": null,
      "order": null,
      "overflow": null,
      "overflow_x": null,
      "overflow_y": null,
      "padding": null,
      "right": null,
      "top": null,
      "visibility": null,
      "width": null
     }
    },
    "579ce6e14c0448b98de77394f00f93b6": {
     "model_module": "@jupyter-widgets/base",
     "model_module_version": "1.2.0",
     "model_name": "LayoutModel",
     "state": {
      "_model_module": "@jupyter-widgets/base",
      "_model_module_version": "1.2.0",
      "_model_name": "LayoutModel",
      "_view_count": null,
      "_view_module": "@jupyter-widgets/base",
      "_view_module_version": "1.2.0",
      "_view_name": "LayoutView",
      "align_content": null,
      "align_items": null,
      "align_self": null,
      "border": null,
      "bottom": null,
      "display": null,
      "flex": null,
      "flex_flow": null,
      "grid_area": null,
      "grid_auto_columns": null,
      "grid_auto_flow": null,
      "grid_auto_rows": null,
      "grid_column": null,
      "grid_gap": null,
      "grid_row": null,
      "grid_template_areas": null,
      "grid_template_columns": null,
      "grid_template_rows": null,
      "height": null,
      "justify_content": null,
      "justify_items": null,
      "left": null,
      "margin": null,
      "max_height": null,
      "max_width": null,
      "min_height": null,
      "min_width": null,
      "object_fit": null,
      "object_position": null,
      "order": null,
      "overflow": null,
      "overflow_x": null,
      "overflow_y": null,
      "padding": null,
      "right": null,
      "top": null,
      "visibility": null,
      "width": null
     }
    },
    "71f83dca59e3466fba0162d43ae53383": {
     "model_module": "@jupyter-widgets/controls",
     "model_module_version": "1.5.0",
     "model_name": "ProgressStyleModel",
     "state": {
      "_model_module": "@jupyter-widgets/controls",
      "_model_module_version": "1.5.0",
      "_model_name": "ProgressStyleModel",
      "_view_count": null,
      "_view_module": "@jupyter-widgets/base",
      "_view_module_version": "1.2.0",
      "_view_name": "StyleView",
      "bar_color": null,
      "description_width": ""
     }
    },
    "a18aa2ec8ab74ed88797ad627c5023fc": {
     "model_module": "@jupyter-widgets/controls",
     "model_module_version": "1.5.0",
     "model_name": "HTMLModel",
     "state": {
      "_dom_classes": [],
      "_model_module": "@jupyter-widgets/controls",
      "_model_module_version": "1.5.0",
      "_model_name": "HTMLModel",
      "_view_count": null,
      "_view_module": "@jupyter-widgets/controls",
      "_view_module_version": "1.5.0",
      "_view_name": "HTMLView",
      "description": "",
      "description_tooltip": null,
      "layout": "IPY_MODEL_579ce6e14c0448b98de77394f00f93b6",
      "placeholder": "​",
      "style": "IPY_MODEL_3980263d8dab41959ea1a2ac31ba2d2b",
      "value": ""
     }
    },
    "a90618c8a9034feb85519927d7a23800": {
     "model_module": "@jupyter-widgets/controls",
     "model_module_version": "1.5.0",
     "model_name": "HBoxModel",
     "state": {
      "_dom_classes": [],
      "_model_module": "@jupyter-widgets/controls",
      "_model_module_version": "1.5.0",
      "_model_name": "HBoxModel",
      "_view_count": null,
      "_view_module": "@jupyter-widgets/controls",
      "_view_module_version": "1.5.0",
      "_view_name": "HBoxView",
      "box_style": "",
      "children": [
       "IPY_MODEL_a18aa2ec8ab74ed88797ad627c5023fc",
       "IPY_MODEL_fa29dca2ace241b2af4639383bc6de17",
       "IPY_MODEL_b174e189b82f4670b80ba77f7d2c37be"
      ],
      "layout": "IPY_MODEL_c9c4cff96c154eb48f7c27906b67be43"
     }
    },
    "b174e189b82f4670b80ba77f7d2c37be": {
     "model_module": "@jupyter-widgets/controls",
     "model_module_version": "1.5.0",
     "model_name": "HTMLModel",
     "state": {
      "_dom_classes": [],
      "_model_module": "@jupyter-widgets/controls",
      "_model_module_version": "1.5.0",
      "_model_name": "HTMLModel",
      "_view_count": null,
      "_view_module": "@jupyter-widgets/controls",
      "_view_module_version": "1.5.0",
      "_view_name": "HTMLView",
      "description": "",
      "description_tooltip": null,
      "layout": "IPY_MODEL_436c2d5d675f433fba824d155bc41465",
      "placeholder": "​",
      "style": "IPY_MODEL_c7c9e4562e3748dba9afaace2b8a1c51",
      "value": " 205616128/? [00:35&lt;00:00, 5966924.68it/s]"
     }
    },
    "c7c9e4562e3748dba9afaace2b8a1c51": {
     "model_module": "@jupyter-widgets/controls",
     "model_module_version": "1.5.0",
     "model_name": "DescriptionStyleModel",
     "state": {
      "_model_module": "@jupyter-widgets/controls",
      "_model_module_version": "1.5.0",
      "_model_name": "DescriptionStyleModel",
      "_view_count": null,
      "_view_module": "@jupyter-widgets/base",
      "_view_module_version": "1.2.0",
      "_view_name": "StyleView",
      "description_width": ""
     }
    },
    "c9c4cff96c154eb48f7c27906b67be43": {
     "model_module": "@jupyter-widgets/base",
     "model_module_version": "1.2.0",
     "model_name": "LayoutModel",
     "state": {
      "_model_module": "@jupyter-widgets/base",
      "_model_module_version": "1.2.0",
      "_model_name": "LayoutModel",
      "_view_count": null,
      "_view_module": "@jupyter-widgets/base",
      "_view_module_version": "1.2.0",
      "_view_name": "LayoutView",
      "align_content": null,
      "align_items": null,
      "align_self": null,
      "border": null,
      "bottom": null,
      "display": null,
      "flex": null,
      "flex_flow": null,
      "grid_area": null,
      "grid_auto_columns": null,
      "grid_auto_flow": null,
      "grid_auto_rows": null,
      "grid_column": null,
      "grid_gap": null,
      "grid_row": null,
      "grid_template_areas": null,
      "grid_template_columns": null,
      "grid_template_rows": null,
      "height": null,
      "justify_content": null,
      "justify_items": null,
      "left": null,
      "margin": null,
      "max_height": null,
      "max_width": null,
      "min_height": null,
      "min_width": null,
      "object_fit": null,
      "object_position": null,
      "order": null,
      "overflow": null,
      "overflow_x": null,
      "overflow_y": null,
      "padding": null,
      "right": null,
      "top": null,
      "visibility": null,
      "width": null
     }
    },
    "e4638284f15a425ebbf829566f8abb59": {
     "model_module": "@jupyter-widgets/base",
     "model_module_version": "1.2.0",
     "model_name": "LayoutModel",
     "state": {
      "_model_module": "@jupyter-widgets/base",
      "_model_module_version": "1.2.0",
      "_model_name": "LayoutModel",
      "_view_count": null,
      "_view_module": "@jupyter-widgets/base",
      "_view_module_version": "1.2.0",
      "_view_name": "LayoutView",
      "align_content": null,
      "align_items": null,
      "align_self": null,
      "border": null,
      "bottom": null,
      "display": null,
      "flex": null,
      "flex_flow": null,
      "grid_area": null,
      "grid_auto_columns": null,
      "grid_auto_flow": null,
      "grid_auto_rows": null,
      "grid_column": null,
      "grid_gap": null,
      "grid_row": null,
      "grid_template_areas": null,
      "grid_template_columns": null,
      "grid_template_rows": null,
      "height": null,
      "justify_content": null,
      "justify_items": null,
      "left": null,
      "margin": null,
      "max_height": null,
      "max_width": null,
      "min_height": null,
      "min_width": null,
      "object_fit": null,
      "object_position": null,
      "order": null,
      "overflow": null,
      "overflow_x": null,
      "overflow_y": null,
      "padding": null,
      "right": null,
      "top": null,
      "visibility": null,
      "width": null
     }
    },
    "fa29dca2ace241b2af4639383bc6de17": {
     "model_module": "@jupyter-widgets/controls",
     "model_module_version": "1.5.0",
     "model_name": "FloatProgressModel",
     "state": {
      "_dom_classes": [],
      "_model_module": "@jupyter-widgets/controls",
      "_model_module_version": "1.5.0",
      "_model_name": "FloatProgressModel",
      "_view_count": null,
      "_view_module": "@jupyter-widgets/controls",
      "_view_module_version": "1.5.0",
      "_view_name": "ProgressView",
      "bar_style": "success",
      "description": "",
      "description_tooltip": null,
      "layout": "IPY_MODEL_e4638284f15a425ebbf829566f8abb59",
      "max": 205615438,
      "min": 0,
      "orientation": "horizontal",
      "style": "IPY_MODEL_71f83dca59e3466fba0162d43ae53383",
      "value": 205615438
     }
    }
   }
  }
 },
 "nbformat": 4,
 "nbformat_minor": 5
}
